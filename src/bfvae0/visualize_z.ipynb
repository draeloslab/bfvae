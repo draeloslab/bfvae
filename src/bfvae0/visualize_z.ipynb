{
 "cells": [
  {
   "cell_type": "code",
   "execution_count": 15,
   "metadata": {},
   "outputs": [],
   "source": [
    "import numpy as np\n",
    "\n",
    "filename = 'save_z_dsprites_eta_1.0_gamma_6.4_zDim_10_lrVAE_0.0001_lrD_0.0001_rseed_0_run_2.npz'\n",
    "# filename = 'save_z_latent2_eta_1.0_gamma_6.4_zDim_2_lrVAE_0.0001_lrD_0.0001_rseed_0_run_0.npz'\n",
    "data = np.load(f'outputs/{filename}')\n",
    "arr_0 = data['name1']\n",
    "arr_1 = data['name2']\n",
    "data.close()\n"
   ]
  },
  {
   "cell_type": "code",
   "execution_count": 16,
   "metadata": {},
   "outputs": [
    {
     "name": "stdout",
     "output_type": "stream",
     "text": [
      "[-0.63869566 -0.17609824  0.42088717  0.05626528  0.42626956 -0.16969278\n",
      " -0.04698999 -0.170611   -0.17114587 -0.04056732]\n",
      "[1.1775038  0.09887557 1.1783278  0.0568442  1.4974967  0.06767444\n",
      " 0.0468807  1.5189192  0.07611477 0.06136535]\n"
     ]
    }
   ],
   "source": [
    "print(arr_0.mean(axis=0))\n",
    "print(arr_0.std(axis=0))"
   ]
  },
  {
   "cell_type": "code",
   "execution_count": 8,
   "metadata": {},
   "outputs": [
    {
     "data": {
      "text/plain": [
       "array([[0.0084518 , 0.01925284],\n",
       "       [0.00904989, 0.02004383],\n",
       "       [0.00904801, 0.02000287],\n",
       "       [0.00846891, 0.01925125],\n",
       "       [0.00845706, 0.01930637],\n",
       "       [0.00908908, 0.01998344],\n",
       "       [0.00844936, 0.01927127]], dtype=float32)"
      ]
     },
     "execution_count": 8,
     "metadata": {},
     "output_type": "execute_result"
    }
   ],
   "source": [
    "arr_0[:7,:]"
   ]
  },
  {
   "cell_type": "code",
   "execution_count": 9,
   "metadata": {},
   "outputs": [
    {
     "data": {
      "text/plain": [
       "array([[0. , 0.8],\n",
       "       [1. , 1. ],\n",
       "       [1. , 0.9],\n",
       "       [0. , 0.9],\n",
       "       [0. , 0.6],\n",
       "       [1. , 0.5],\n",
       "       [0. , 0.7]])"
      ]
     },
     "execution_count": 9,
     "metadata": {},
     "output_type": "execute_result"
    }
   ],
   "source": [
    "arr_1[:7,:]"
   ]
  }
 ],
 "metadata": {
  "kernelspec": {
   "display_name": "Python 3",
   "language": "python",
   "name": "python3"
  },
  "language_info": {
   "codemirror_mode": {
    "name": "ipython",
    "version": 3
   },
   "file_extension": ".py",
   "mimetype": "text/x-python",
   "name": "python",
   "nbconvert_exporter": "python",
   "pygments_lexer": "ipython3",
   "version": "3.6.8"
  },
  "orig_nbformat": 4,
  "vscode": {
   "interpreter": {
    "hash": "916dbcbb3f70747c44a77c7bcd40155683ae19c65e1c03b4aa3499c5328201f1"
   }
  }
 },
 "nbformat": 4,
 "nbformat_minor": 2
}
